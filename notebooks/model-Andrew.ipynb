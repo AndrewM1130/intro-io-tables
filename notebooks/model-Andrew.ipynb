{
 "cells": [
  {
   "cell_type": "code",
   "execution_count": 7,
   "metadata": {},
   "outputs": [],
   "source": [
    "from pathlib import Path\n",
    "import seaborn as sns\n",
    "import os\n",
    "import json\n",
    "\n",
    "import pandas as pd\n",
    "import numpy as np\n",
    "from scipy.sparse import csr_matrix\n",
    "\n",
    "## nice trick to increase dpi of exported images -> higher quality png's for presentation\n",
    "import matplotlib.pyplot as plt\n",
    "from IPython.display import set_matplotlib_formats\n",
    "set_matplotlib_formats('retina', quality=100)"
   ]
  },
  {
   "cell_type": "markdown",
   "metadata": {},
   "source": [
    "# Objective\n",
    "\n",
    "Explore the effects of supply-side shocks on the U.S. Economy through the lens of graph networks"
   ]
  },
  {
   "cell_type": "markdown",
   "metadata": {},
   "source": [
    "# Defenitions\n",
    "\n",
    "- **Supply tables:** The value of goods and services available in the U.S. economy, whether produced by domestic industries or imported. \n",
    "- **Use(IO) tables:** How the supply of goods and services is used. Includes purchases by U.S. industries, individuals, and government, and exports to foreign purchasers. This is the table we are actually interested in because $a_{ij}x_{j}$ is the total number of units (Millions of Dollars)\n",
    "\n",
    "When it comes to the application of probabilsitc graph models to societal concerns, one need not look further than into public economic policy.\n",
    "\n",
    "1. **Open Model:**\n",
    "2. **Closed Model:**\n",
    "\n",
    "In fact, these methods have proved particularly effective in the analysis of sudden and large changes, as in the case of military mobilization or other far-reaching tranformations of an economy. The method has also been applied in studies of how cost and price changes are transmitted through various sectors of an economy.\n",
    "\n",
    "Among recent developments of the method may be mentioned its extension to include residuals of the production system – smoke, water pollution, scrap, etc., and the further processing of these. In this way the effects of the production on the environment can be studied."
   ]
  },
  {
   "cell_type": "markdown",
   "metadata": {},
   "source": [
    "# Setup\n",
    "\n",
    "**Required:**\n",
    "1. reqs_master $\\coloneqq$ Total Requirements Table from 1997-2020 from BEA database\n",
    "2. mapping.json $\\coloneqq$ Dictionary containing shortened industry names\n",
    "3. 'IO.py' $\\coloneqq$ Python module containing IO class & functions for IO-dataframe -> networkX.G object\n",
    "\n",
    "Please deploy the cells below and ensure that there are no errors; note that file paths may need to be changed to the directory where the data is stored on your local machine. More information on the data, mapping dictionary, and IO module may be found in `EDA-Andrew.ipynb`, where the function is built and we conduct a prelimiary EDA with visualzations."
   ]
  },
  {
   "cell_type": "code",
   "execution_count": 11,
   "metadata": {},
   "outputs": [],
   "source": [
    "## import BEA total requirements table\n",
    "data_path = f'{str(Path(os.getcwd()).parent)}/data/processed'\n",
    "\n",
    "# assign path\n",
    "\n",
    "path, dirs, files = next(os.walk(f'{data_path}/../io-reqs-table'))\n",
    "file_count = len(files)\n",
    "files.sort()\n",
    "\n",
    "# create empty list\n",
    "reqs_master = []\n",
    "  \n",
    "# append datasets to the list \n",
    "for i in range(file_count):\n",
    "    temp_df = pd.read_csv(path + \"/\" + files[i], sep=',', \n",
    "                skiprows = 4, header = [1]).iloc[:72,1:].set_index('Industry Description')\n",
    "                \n",
    "    reqs_master.append(temp_df)"
   ]
  },
  {
   "cell_type": "code",
   "execution_count": 12,
   "metadata": {},
   "outputs": [],
   "source": [
    "## import our mapping.json dictionary \n",
    "with open(\"./../data/dict.json\", 'r') as myfile:\n",
    "    data=myfile.read()\n",
    "    \n",
    "mapping = json.loads(data)"
   ]
  },
  {
   "cell_type": "code",
   "execution_count": 13,
   "metadata": {},
   "outputs": [
    {
     "data": {
      "text/plain": [
       "<IO.IO.IO at 0x7f90f16f2f10>"
      ]
     },
     "execution_count": 13,
     "metadata": {},
     "output_type": "execute_result"
    }
   ],
   "source": [
    "## import IO module containing IO() class and pre-built functions from EDA notebook\n",
    "from IO import IO\n",
    "io = IO.IO()\n",
    "io ## sanity check"
   ]
  },
  {
   "cell_type": "markdown",
   "metadata": {},
   "source": [
    "# Model Implementation & Deployment\n",
    "\n",
    "From a big picture perspective, we will be implementing a variety of proposed Economic Network models in published scientific journals. We will be starting with a relatively simple model porposed by .\n",
    "\n",
    "From the algebra, one could easily mistake this for a trivial task; however, remember that our IO tables are of sizes. The following concerns must be investigated and adressed:\n",
    "\n",
    "- How can we guarantee the nonsigularity of our input-output matrix A? \n",
    "- Should we utilize the psuedoinverse and how will taht affect the predictive power of our model? \n",
    "- How do we deal with the computational complaexity of possible inverting a ~100x100 matrix? \n",
    "\n",
    "For those of you interested, these articles may be found both linked in the model summaries below or at the end in the 'References' section. "
   ]
  },
  {
   "cell_type": "markdown",
   "metadata": {},
   "source": [
    "## Model 1: Open Leontif Model\n",
    "\n",
    "We will first be attempting to fit underpowered the model proposed by . This model does not include .\n",
    "\n",
    "If Leontif's economic model was good enough for a Nobel prize, let us assume that it is sufficient for this project.\n",
    "\n",
    "- A = $\\sigma$\n",
    "- B = \n",
    "- X = "
   ]
  },
  {
   "cell_type": "code",
   "execution_count": 134,
   "metadata": {},
   "outputs": [
    {
     "data": {
      "text/plain": [
       "array([[1.00254971e+00, 1.95798722e-05, 1.33701000e-04, 1.90794614e-05,\n",
       "        4.06402433e-05],\n",
       "       [1.87084566e-01, 1.00017658e+00, 1.22018689e-03, 6.21807382e-06,\n",
       "        3.46179727e-04],\n",
       "       [2.72836078e-02, 1.45860989e-01, 1.00814187e+00, 2.24217306e-03,\n",
       "        2.85594208e-01],\n",
       "       [4.32790949e-03, 2.29327011e-02, 7.16768409e-02, 1.00158351e+00,\n",
       "        1.67697036e-01],\n",
       "       [1.60762916e-02, 8.59441684e-02, 2.75440698e-02, 7.91974276e-03,\n",
       "        1.00895953e+00]])"
      ]
     },
     "execution_count": 134,
     "metadata": {},
     "output_type": "execute_result"
    }
   ],
   "source": [
    "## 5x5 Example for year 1997\n",
    "df = reqs[0].iloc[0:5,1:].set_index('Name')\n",
    "A = df.div(df['Total Commodity Output'],axis=0).iloc[0:5,1:6].to_numpy()\n",
    "hat = np.linalg.inv(np.identity(n=5) - A)\n",
    "B = np.matrix(df.iloc[0:5,-1] - df.iloc[0:5,-2]).transpose()\n",
    "\n",
    "## predicted producution levels for each industry for year 1997\n",
    "X = hat * B\n",
    "X\n",
    "hat"
   ]
  },
  {
   "cell_type": "code",
   "execution_count": 135,
   "metadata": {},
   "outputs": [
    {
     "data": {
      "text/plain": [
       "matrix([[ 372808.84868509],\n",
       "        [ 316229.91658944],\n",
       "        [ 979866.423247  ],\n",
       "        [ 470676.4705198 ],\n",
       "        [  70075.313456  ],\n",
       "        [ 367184.39803225],\n",
       "        [ 137447.05024431],\n",
       "        [ 441677.6044396 ],\n",
       "        [ 558841.31873542],\n",
       "        [1098139.44327332],\n",
       "        [ 758777.79719959],\n",
       "        [ 352488.24535692],\n",
       "        [ 489352.00347287],\n",
       "        [ 464827.39257288],\n",
       "        [ 415840.45085714],\n",
       "        [ 235812.99776296],\n",
       "        [ 130385.41312336],\n",
       "        [ 177354.11157603],\n",
       "        [ 337637.74764115],\n",
       "        [ 467652.14028669],\n",
       "        [ 148353.56562355],\n",
       "        [ 507506.1939532 ],\n",
       "        [ 502092.51629033],\n",
       "        [ 426054.194965  ],\n",
       "        [ 674141.92348152],\n",
       "        [ 566487.09024152],\n",
       "        [ 595270.77899877],\n",
       "        [  48367.71171283],\n",
       "        [   5796.34402459],\n",
       "        [  15783.00267202],\n",
       "        [ 132779.05486704],\n",
       "        [ 181946.2618579 ],\n",
       "        [ 325132.32228899],\n",
       "        [ 140254.62385792],\n",
       "        [ 313227.10180916],\n",
       "        [ 233664.23869653],\n",
       "        [ 313825.16027831],\n",
       "        [ 420098.17302209],\n",
       "        [ 390362.29668007],\n",
       "        [ 127938.58590706],\n",
       "        [ 125382.35028458],\n",
       "        [ 384721.17047374],\n",
       "        [ 424428.79347532],\n",
       "        [ 435661.7790418 ],\n",
       "        [ 434090.51617556],\n",
       "        [ 389236.87250538],\n",
       "        [  35241.91086896],\n",
       "        [      0.        ],\n",
       "        [ 607177.96778345],\n",
       "        [ 423133.3040416 ],\n",
       "        [ 311984.66443272],\n",
       "        [ 249911.93584602],\n",
       "        [ 769203.97016428],\n",
       "        [ 624653.2947754 ],\n",
       "        [ 630727.95613211],\n",
       "        [ 395797.172488  ],\n",
       "        [  26620.0200607 ],\n",
       "        [  30734.18022195],\n",
       "        [   7272.12284482],\n",
       "        [   7045.93251868],\n",
       "        [  17351.35819167],\n",
       "        [ 175167.31962952],\n",
       "        [  22234.7191373 ],\n",
       "        [ 199740.72238395],\n",
       "        [ 147017.46592235],\n",
       "        [ 350492.10660963],\n",
       "        [      0.        ],\n",
       "        [      0.        ],\n",
       "        [ 422875.0418366 ],\n",
       "        [      0.        ],\n",
       "        [  96720.71695087]])"
      ]
     },
     "execution_count": 135,
     "metadata": {},
     "output_type": "execute_result"
    }
   ],
   "source": [
    "## 71 indsutries\n",
    "df = io_current.iloc[0:71,1:].set_index('Name')\n",
    "A = df.div(df['Total Commodity Output'],axis=0).iloc[0:71,1:72].to_numpy()\n",
    "hat = np.linalg.inv(np.identity(n=len(A)) - A)\n",
    "B = np.matrix(df.iloc[0:71,-1] - df.iloc[0:71,-2]).transpose()\n",
    "\n",
    "## predicted production vector for 1997\n",
    "X = hat * B\n",
    "X"
   ]
  },
  {
   "cell_type": "markdown",
   "metadata": {},
   "source": [
    "## Model 2: John B. Long, Jr. et al. (U. of Chicago, 1983) & Acemoglu et al. (Harvard, 2015)\n",
    "\n",
    "Next, Acemogule et al. suggests that the inclusion of taxation and the federal government as an industry in the overall economic network. **In fact, one could argue that the method proposed by John B. Long and Acemoglu are simply a variant of the closed Leotnitz model.**\n"
   ]
  },
  {
   "cell_type": "code",
   "execution_count": 136,
   "metadata": {},
   "outputs": [
    {
     "data": {
      "text/plain": [
       "matrix([[ 372808.84868509],\n",
       "        [ 316229.91658944],\n",
       "        [ 979866.423247  ],\n",
       "        [ 470676.4705198 ],\n",
       "        [  70075.313456  ],\n",
       "        [ 367184.39803225],\n",
       "        [ 137447.05024431],\n",
       "        [ 441677.6044396 ],\n",
       "        [ 558841.31873542],\n",
       "        [1098139.44327332],\n",
       "        [ 758777.79719959],\n",
       "        [ 352488.24535692],\n",
       "        [ 489352.00347287],\n",
       "        [ 464827.39257288],\n",
       "        [ 415840.45085714],\n",
       "        [ 235812.99776296],\n",
       "        [ 130385.41312336],\n",
       "        [ 177354.11157603],\n",
       "        [ 337637.74764115],\n",
       "        [ 467652.14028669],\n",
       "        [ 148353.56562355],\n",
       "        [ 507506.1939532 ],\n",
       "        [ 502092.51629033],\n",
       "        [ 426054.194965  ],\n",
       "        [ 674141.92348152],\n",
       "        [ 566487.09024152],\n",
       "        [ 595270.77899877],\n",
       "        [  48367.71171283],\n",
       "        [   5796.34402459],\n",
       "        [  15783.00267202],\n",
       "        [ 132779.05486704],\n",
       "        [ 181946.2618579 ],\n",
       "        [ 325132.32228899],\n",
       "        [ 140254.62385792],\n",
       "        [ 313227.10180916],\n",
       "        [ 233664.23869653],\n",
       "        [ 313825.16027831],\n",
       "        [ 420098.17302209],\n",
       "        [ 390362.29668007],\n",
       "        [ 127938.58590706],\n",
       "        [ 125382.35028458],\n",
       "        [ 384721.17047374],\n",
       "        [ 424428.79347532],\n",
       "        [ 435661.7790418 ],\n",
       "        [ 434090.51617556],\n",
       "        [ 389236.87250538],\n",
       "        [  35241.91086896],\n",
       "        [      0.        ],\n",
       "        [ 607177.96778345],\n",
       "        [ 423133.3040416 ],\n",
       "        [ 311984.66443272],\n",
       "        [ 249911.93584602],\n",
       "        [ 769203.97016428],\n",
       "        [ 624653.2947754 ],\n",
       "        [ 630727.95613211],\n",
       "        [ 395797.172488  ],\n",
       "        [  26620.0200607 ],\n",
       "        [  30734.18022195],\n",
       "        [   7272.12284482],\n",
       "        [   7045.93251868],\n",
       "        [  17351.35819167],\n",
       "        [ 175167.31962952],\n",
       "        [  22234.7191373 ],\n",
       "        [ 199740.72238395],\n",
       "        [ 147017.46592235],\n",
       "        [ 350492.10660963],\n",
       "        [      0.        ],\n",
       "        [      0.        ],\n",
       "        [ 422875.0418366 ],\n",
       "        [      0.        ],\n",
       "        [  96720.71695087]])"
      ]
     },
     "execution_count": 136,
     "metadata": {},
     "output_type": "execute_result"
    }
   ],
   "source": [
    "df = io_current.iloc[0:71,1:].set_index('Name')\n",
    "A = df.div(df['Total Commodity Output'],axis=0).iloc[0:71,1:72].to_numpy()\n",
    "hat = np.linalg.inv(np.identity(n=len(A)) - A)\n",
    "B = np.matrix(df.iloc[0:71,-1] - df.iloc[0:71,-2]).transpose()\n",
    "\n",
    "## predicted production vector for 1997\n",
    "X = hat * B\n",
    "X"
   ]
  },
  {
   "cell_type": "markdown",
   "metadata": {},
   "source": [
    "## Model 3: Something Special\n",
    "\n",
    "Finally, for those that. As of 2022, research into probabilistic graph networks.  **This will be left as an exercise for the reader.**"
   ]
  },
  {
   "cell_type": "markdown",
   "metadata": {},
   "source": [
    "# Visualizations\n",
    "\n",
    "This section will contain a couple of fancy network plots created to accompany the analysis and write-ups due March 17, 2022."
   ]
  },
  {
   "cell_type": "code",
   "execution_count": null,
   "metadata": {},
   "outputs": [],
   "source": []
  },
  {
   "cell_type": "markdown",
   "metadata": {},
   "source": [
    "# Analysis"
   ]
  },
  {
   "cell_type": "markdown",
   "metadata": {},
   "source": [
    "# Conclusion\n",
    "\n",
    "## Limitations\n",
    "\n",
    "    One clear limitation we faced during this project was the inability to guarantee nonsingularity for our IO-matrix A.\n",
    "\n",
    "## Next Steps"
   ]
  },
  {
   "cell_type": "markdown",
   "metadata": {},
   "source": [
    "As stated in the model portion above,"
   ]
  },
  {
   "cell_type": "markdown",
   "metadata": {},
   "source": [
    "# References\n",
    "\n",
    "1. Jason Choi and Andrew Foerster, (2017), The Changing Input-Output Network Structure of the U.S. Economy, Economic Review, (Q II), 23-49\n",
    "2. Sekhon, Rupinder, and Roberta Bloom. Applications – Leontief Models. De Anza College, 4 Sept. 2021, https://math.libretexts.org/@go/page/37851."
   ]
  },
  {
   "cell_type": "markdown",
   "metadata": {},
   "source": []
  }
 ],
 "metadata": {
  "interpreter": {
   "hash": "1932785456cf4f119288ea3ebcc1e995dabfb0fd145e6ee6d8e83b8ee89252d0"
  },
  "kernelspec": {
   "display_name": "Python 3.8.3 ('base')",
   "language": "python",
   "name": "python3"
  },
  "language_info": {
   "codemirror_mode": {
    "name": "ipython",
    "version": 3
   },
   "file_extension": ".py",
   "mimetype": "text/x-python",
   "name": "python",
   "nbconvert_exporter": "python",
   "pygments_lexer": "ipython3",
   "version": "3.8.3"
  },
  "orig_nbformat": 4
 },
 "nbformat": 4,
 "nbformat_minor": 2
}
